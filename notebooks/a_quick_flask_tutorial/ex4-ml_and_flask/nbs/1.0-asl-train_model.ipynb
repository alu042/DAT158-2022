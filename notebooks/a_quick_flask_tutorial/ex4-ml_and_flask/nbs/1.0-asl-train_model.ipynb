{
 "cells": [
  {
   "cell_type": "markdown",
   "metadata": {},
   "source": [
    "# Introduction"
   ]
  },
  {
   "cell_type": "markdown",
   "metadata": {},
   "source": [
    "We'll use the hospital data set discussed in Module 2 of the course. See the notebook `DAT158-Part2-6-Extra-RandomForests-Examples.ipynb` for details. \n",
    "\n",
    "The goal is to train a simple model to predict hospital length of stay. We'll try to keep it simple as the focus now is on deploying the model. "
   ]
  },
  {
   "cell_type": "markdown",
   "metadata": {},
   "source": [
    "# Setup"
   ]
  },
  {
   "cell_type": "code",
   "execution_count": 1,
   "metadata": {},
   "outputs": [],
   "source": [
    "%matplotlib inline\n",
    "import numpy as np, pandas as pd\n",
    "from pathlib import Path"
   ]
  },
  {
   "cell_type": "code",
   "execution_count": 2,
   "metadata": {},
   "outputs": [],
   "source": [
    "NB_DIR = Path.cwd()\n",
    "DATA_DIR = NB_DIR/'..'/'data'"
   ]
  },
  {
   "cell_type": "markdown",
   "metadata": {},
   "source": [
    "# Load data"
   ]
  },
  {
   "cell_type": "code",
   "execution_count": 3,
   "metadata": {},
   "outputs": [],
   "source": [
    "df = pd.read_pickle(DATA_DIR/'hospital')\n",
    "data_dict = pd.read_excel(DATA_DIR/'Data_Dictionary.xlsx')\n",
    "metadata = pd.read_csv(DATA_DIR/'MetaData_Facilities.csv')"
   ]
  },
  {
   "cell_type": "code",
   "execution_count": 4,
   "metadata": {},
   "outputs": [
    {
     "output_type": "execute_result",
     "data": {
      "text/plain": [
       "   rcount  gender  facid  eid  dialysisrenalendstage  asthma  irondef  pneum  \\\n",
       "0       0       0      1    1                  False   False    False  False   \n",
       "1       5       0      0    2                  False   False    False  False   \n",
       "2       1       0      1    3                  False   False    False  False   \n",
       "3       0       0      0    4                  False   False    False  False   \n",
       "4       0       0      4    5                  False   False    False   True   \n",
       "\n",
       "   substancedependence  psychologicaldisordermajor  ...  neutrophils  \\\n",
       "0                False                       False  ...        14.20   \n",
       "1                False                       False  ...         4.10   \n",
       "2                False                       False  ...         8.90   \n",
       "3                False                       False  ...         9.40   \n",
       "4                False                        True  ...         9.05   \n",
       "\n",
       "       sodium     glucose  bloodureanitro  creatinine        bmi  pulse  \\\n",
       "0  140.361130  192.476913            12.0    1.390722  30.432417     96   \n",
       "1  136.731689   94.078506             8.0    0.943164  28.460516     61   \n",
       "2  133.058517  130.530518            12.0    1.065750  28.843811     64   \n",
       "3  138.994019  163.377029            12.0    0.906862  27.959007     76   \n",
       "4  138.634842   94.886658            11.5    1.242854  30.258926     67   \n",
       "\n",
       "   respiration  secondarydiagnosisnonicd9  lengthofstay  \n",
       "0          6.5                          4             3  \n",
       "1          6.5                          1             7  \n",
       "2          6.5                          2             3  \n",
       "3          6.5                          1             1  \n",
       "4          5.6                          2             4  \n",
       "\n",
       "[5 rows x 26 columns]"
      ],
      "text/html": "<div>\n<style scoped>\n    .dataframe tbody tr th:only-of-type {\n        vertical-align: middle;\n    }\n\n    .dataframe tbody tr th {\n        vertical-align: top;\n    }\n\n    .dataframe thead th {\n        text-align: right;\n    }\n</style>\n<table border=\"1\" class=\"dataframe\">\n  <thead>\n    <tr style=\"text-align: right;\">\n      <th></th>\n      <th>rcount</th>\n      <th>gender</th>\n      <th>facid</th>\n      <th>eid</th>\n      <th>dialysisrenalendstage</th>\n      <th>asthma</th>\n      <th>irondef</th>\n      <th>pneum</th>\n      <th>substancedependence</th>\n      <th>psychologicaldisordermajor</th>\n      <th>...</th>\n      <th>neutrophils</th>\n      <th>sodium</th>\n      <th>glucose</th>\n      <th>bloodureanitro</th>\n      <th>creatinine</th>\n      <th>bmi</th>\n      <th>pulse</th>\n      <th>respiration</th>\n      <th>secondarydiagnosisnonicd9</th>\n      <th>lengthofstay</th>\n    </tr>\n  </thead>\n  <tbody>\n    <tr>\n      <th>0</th>\n      <td>0</td>\n      <td>0</td>\n      <td>1</td>\n      <td>1</td>\n      <td>False</td>\n      <td>False</td>\n      <td>False</td>\n      <td>False</td>\n      <td>False</td>\n      <td>False</td>\n      <td>...</td>\n      <td>14.20</td>\n      <td>140.361130</td>\n      <td>192.476913</td>\n      <td>12.0</td>\n      <td>1.390722</td>\n      <td>30.432417</td>\n      <td>96</td>\n      <td>6.5</td>\n      <td>4</td>\n      <td>3</td>\n    </tr>\n    <tr>\n      <th>1</th>\n      <td>5</td>\n      <td>0</td>\n      <td>0</td>\n      <td>2</td>\n      <td>False</td>\n      <td>False</td>\n      <td>False</td>\n      <td>False</td>\n      <td>False</td>\n      <td>False</td>\n      <td>...</td>\n      <td>4.10</td>\n      <td>136.731689</td>\n      <td>94.078506</td>\n      <td>8.0</td>\n      <td>0.943164</td>\n      <td>28.460516</td>\n      <td>61</td>\n      <td>6.5</td>\n      <td>1</td>\n      <td>7</td>\n    </tr>\n    <tr>\n      <th>2</th>\n      <td>1</td>\n      <td>0</td>\n      <td>1</td>\n      <td>3</td>\n      <td>False</td>\n      <td>False</td>\n      <td>False</td>\n      <td>False</td>\n      <td>False</td>\n      <td>False</td>\n      <td>...</td>\n      <td>8.90</td>\n      <td>133.058517</td>\n      <td>130.530518</td>\n      <td>12.0</td>\n      <td>1.065750</td>\n      <td>28.843811</td>\n      <td>64</td>\n      <td>6.5</td>\n      <td>2</td>\n      <td>3</td>\n    </tr>\n    <tr>\n      <th>3</th>\n      <td>0</td>\n      <td>0</td>\n      <td>0</td>\n      <td>4</td>\n      <td>False</td>\n      <td>False</td>\n      <td>False</td>\n      <td>False</td>\n      <td>False</td>\n      <td>False</td>\n      <td>...</td>\n      <td>9.40</td>\n      <td>138.994019</td>\n      <td>163.377029</td>\n      <td>12.0</td>\n      <td>0.906862</td>\n      <td>27.959007</td>\n      <td>76</td>\n      <td>6.5</td>\n      <td>1</td>\n      <td>1</td>\n    </tr>\n    <tr>\n      <th>4</th>\n      <td>0</td>\n      <td>0</td>\n      <td>4</td>\n      <td>5</td>\n      <td>False</td>\n      <td>False</td>\n      <td>False</td>\n      <td>True</td>\n      <td>False</td>\n      <td>True</td>\n      <td>...</td>\n      <td>9.05</td>\n      <td>138.634842</td>\n      <td>94.886658</td>\n      <td>11.5</td>\n      <td>1.242854</td>\n      <td>30.258926</td>\n      <td>67</td>\n      <td>5.6</td>\n      <td>2</td>\n      <td>4</td>\n    </tr>\n  </tbody>\n</table>\n<p>5 rows × 26 columns</p>\n</div>"
     },
     "metadata": {},
     "execution_count": 4
    }
   ],
   "source": [
    "df.head()"
   ]
  },
  {
   "cell_type": "code",
   "execution_count": 5,
   "metadata": {},
   "outputs": [
    {
     "output_type": "stream",
     "name": "stdout",
     "text": [
      "<class 'pandas.core.frame.DataFrame'>\nRangeIndex: 100000 entries, 0 to 99999\nData columns (total 26 columns):\n #   Column                      Non-Null Count   Dtype  \n---  ------                      --------------   -----  \n 0   rcount                      100000 non-null  int32  \n 1   gender                      100000 non-null  int32  \n 2   facid                       100000 non-null  int32  \n 3   eid                         100000 non-null  int32  \n 4   dialysisrenalendstage       100000 non-null  bool   \n 5   asthma                      100000 non-null  bool   \n 6   irondef                     100000 non-null  bool   \n 7   pneum                       100000 non-null  bool   \n 8   substancedependence         100000 non-null  bool   \n 9   psychologicaldisordermajor  100000 non-null  bool   \n 10  depress                     100000 non-null  bool   \n 11  psychother                  100000 non-null  bool   \n 12  fibrosisandother            100000 non-null  bool   \n 13  malnutrition                100000 non-null  bool   \n 14  hemo                        100000 non-null  bool   \n 15  hematocrit                  100000 non-null  float32\n 16  neutrophils                 100000 non-null  float32\n 17  sodium                      100000 non-null  float32\n 18  glucose                     100000 non-null  float32\n 19  bloodureanitro              100000 non-null  float32\n 20  creatinine                  100000 non-null  float32\n 21  bmi                         100000 non-null  float32\n 22  pulse                       100000 non-null  int32  \n 23  respiration                 100000 non-null  float32\n 24  secondarydiagnosisnonicd9   100000 non-null  int32  \n 25  lengthofstay                100000 non-null  object \ndtypes: bool(11), float32(8), int32(6), object(1)\nmemory usage: 7.2+ MB\n"
     ]
    }
   ],
   "source": [
    "df.info()"
   ]
  },
  {
   "cell_type": "code",
   "execution_count": 6,
   "metadata": {},
   "outputs": [
    {
     "output_type": "execute_result",
     "data": {
      "text/plain": [
       "    Index                                       Data fields      Type  \\\n",
       "0     NaN                                      LengthOfStay       NaN   \n",
       "1     1.0                                               eid   Integer   \n",
       "2     2.0                                             vdate    String   \n",
       "3     3.0                                            rcount  Integer    \n",
       "4     4.0                                            gender    String   \n",
       "5     5.0                       dialysisrenalendstage          String   \n",
       "6     6.0                           asthma                     String   \n",
       "7     7.0                            irondef                   String   \n",
       "8     8.0                         pneum                        String   \n",
       "9     9.0                            substancedependence       String   \n",
       "10   10.0                       psychologicaldisordermajor     String   \n",
       "11   11.0                              depress                 String   \n",
       "12   12.0                        psychother                    String   \n",
       "13   13.0                      fibrosisandother                String   \n",
       "14   14.0                            malnutrition              String   \n",
       "15   15.0                                        hemo           Float   \n",
       "16   16.0                      hematocritic                     Float   \n",
       "17   17.0                          neutrophils                  Float   \n",
       "18   18.0                                          sodium       Float   \n",
       "19   19.0                         glucose                       Float   \n",
       "20   20.0                                bloodureanitro         Float   \n",
       "21   21.0                          creatinine                   Float   \n",
       "22   22.0                                      bmi              Float   \n",
       "23   23.0  pulse                                                Float   \n",
       "24   24.0                                     respiration       Float   \n",
       "25   25.0                   secondarydiagnosisnonicd9         Integer   \n",
       "26   26.0                       discharged                     String   \n",
       "27   27.0                        facid                        Integer   \n",
       "28   28.0                              lengthofstay           Integer   \n",
       "\n",
       "                                         Descriptions  \n",
       "0                                                 NaN  \n",
       "1                 Unique Id of the hospital admission  \n",
       "2                                          Visit date  \n",
       "3         Number of readmissions within last 180 days  \n",
       "4                       Gender of the patient\\nM or F  \n",
       "5             Flag for renal disease during encounter  \n",
       "6                    Flag for asthma during encounter  \n",
       "7           Flag for iron deficiency during encounter  \n",
       "8                 Flag for pneumonia during encounter  \n",
       "9      Flag for substance dependence during encounter  \n",
       "10  Flag for major psychological disorder during e...  \n",
       "11               Flag for depression during encounter  \n",
       "12  Flag for other psychological disorder during e...  \n",
       "13                 Flag for fibrosis during encounter  \n",
       "14            Flag for malnutrituion during encounter  \n",
       "15          Flag for blood disorder during encounter   \n",
       "16  Average hematocritic value during encounter (g...  \n",
       "17  Average neutrophils value during encounter  (c...  \n",
       "18     Average sodium value during encounter (mmol/L)  \n",
       "19     Average sodium value during encounter (mmol/L)  \n",
       "20  Average blood urea nitrogen value during encou...  \n",
       "21  Average creatinine value during encounter (mg/dL)  \n",
       "22               Average BMI during encounter (kg/m2)  \n",
       "23          Average pulse during encounter  (beats/m)  \n",
       "24  Average respiration during encounter  (breaths...  \n",
       "25  Flag for whether a non ICD 9 formatted diagnos...  \n",
       "26                                  Date of discharge  \n",
       "27        Facility ID at which the encounter occurred  \n",
       "28                  Length of stay for the encounter   "
      ],
      "text/html": "<div>\n<style scoped>\n    .dataframe tbody tr th:only-of-type {\n        vertical-align: middle;\n    }\n\n    .dataframe tbody tr th {\n        vertical-align: top;\n    }\n\n    .dataframe thead th {\n        text-align: right;\n    }\n</style>\n<table border=\"1\" class=\"dataframe\">\n  <thead>\n    <tr style=\"text-align: right;\">\n      <th></th>\n      <th>Index</th>\n      <th>Data fields</th>\n      <th>Type</th>\n      <th>Descriptions</th>\n    </tr>\n  </thead>\n  <tbody>\n    <tr>\n      <th>0</th>\n      <td>NaN</td>\n      <td>LengthOfStay</td>\n      <td>NaN</td>\n      <td>NaN</td>\n    </tr>\n    <tr>\n      <th>1</th>\n      <td>1.0</td>\n      <td>eid</td>\n      <td>Integer</td>\n      <td>Unique Id of the hospital admission</td>\n    </tr>\n    <tr>\n      <th>2</th>\n      <td>2.0</td>\n      <td>vdate</td>\n      <td>String</td>\n      <td>Visit date</td>\n    </tr>\n    <tr>\n      <th>3</th>\n      <td>3.0</td>\n      <td>rcount</td>\n      <td>Integer</td>\n      <td>Number of readmissions within last 180 days</td>\n    </tr>\n    <tr>\n      <th>4</th>\n      <td>4.0</td>\n      <td>gender</td>\n      <td>String</td>\n      <td>Gender of the patient\\nM or F</td>\n    </tr>\n    <tr>\n      <th>5</th>\n      <td>5.0</td>\n      <td>dialysisrenalendstage</td>\n      <td>String</td>\n      <td>Flag for renal disease during encounter</td>\n    </tr>\n    <tr>\n      <th>6</th>\n      <td>6.0</td>\n      <td>asthma</td>\n      <td>String</td>\n      <td>Flag for asthma during encounter</td>\n    </tr>\n    <tr>\n      <th>7</th>\n      <td>7.0</td>\n      <td>irondef</td>\n      <td>String</td>\n      <td>Flag for iron deficiency during encounter</td>\n    </tr>\n    <tr>\n      <th>8</th>\n      <td>8.0</td>\n      <td>pneum</td>\n      <td>String</td>\n      <td>Flag for pneumonia during encounter</td>\n    </tr>\n    <tr>\n      <th>9</th>\n      <td>9.0</td>\n      <td>substancedependence</td>\n      <td>String</td>\n      <td>Flag for substance dependence during encounter</td>\n    </tr>\n    <tr>\n      <th>10</th>\n      <td>10.0</td>\n      <td>psychologicaldisordermajor</td>\n      <td>String</td>\n      <td>Flag for major psychological disorder during e...</td>\n    </tr>\n    <tr>\n      <th>11</th>\n      <td>11.0</td>\n      <td>depress</td>\n      <td>String</td>\n      <td>Flag for depression during encounter</td>\n    </tr>\n    <tr>\n      <th>12</th>\n      <td>12.0</td>\n      <td>psychother</td>\n      <td>String</td>\n      <td>Flag for other psychological disorder during e...</td>\n    </tr>\n    <tr>\n      <th>13</th>\n      <td>13.0</td>\n      <td>fibrosisandother</td>\n      <td>String</td>\n      <td>Flag for fibrosis during encounter</td>\n    </tr>\n    <tr>\n      <th>14</th>\n      <td>14.0</td>\n      <td>malnutrition</td>\n      <td>String</td>\n      <td>Flag for malnutrituion during encounter</td>\n    </tr>\n    <tr>\n      <th>15</th>\n      <td>15.0</td>\n      <td>hemo</td>\n      <td>Float</td>\n      <td>Flag for blood disorder during encounter</td>\n    </tr>\n    <tr>\n      <th>16</th>\n      <td>16.0</td>\n      <td>hematocritic</td>\n      <td>Float</td>\n      <td>Average hematocritic value during encounter (g...</td>\n    </tr>\n    <tr>\n      <th>17</th>\n      <td>17.0</td>\n      <td>neutrophils</td>\n      <td>Float</td>\n      <td>Average neutrophils value during encounter  (c...</td>\n    </tr>\n    <tr>\n      <th>18</th>\n      <td>18.0</td>\n      <td>sodium</td>\n      <td>Float</td>\n      <td>Average sodium value during encounter (mmol/L)</td>\n    </tr>\n    <tr>\n      <th>19</th>\n      <td>19.0</td>\n      <td>glucose</td>\n      <td>Float</td>\n      <td>Average sodium value during encounter (mmol/L)</td>\n    </tr>\n    <tr>\n      <th>20</th>\n      <td>20.0</td>\n      <td>bloodureanitro</td>\n      <td>Float</td>\n      <td>Average blood urea nitrogen value during encou...</td>\n    </tr>\n    <tr>\n      <th>21</th>\n      <td>21.0</td>\n      <td>creatinine</td>\n      <td>Float</td>\n      <td>Average creatinine value during encounter (mg/dL)</td>\n    </tr>\n    <tr>\n      <th>22</th>\n      <td>22.0</td>\n      <td>bmi</td>\n      <td>Float</td>\n      <td>Average BMI during encounter (kg/m2)</td>\n    </tr>\n    <tr>\n      <th>23</th>\n      <td>23.0</td>\n      <td>pulse</td>\n      <td>Float</td>\n      <td>Average pulse during encounter  (beats/m)</td>\n    </tr>\n    <tr>\n      <th>24</th>\n      <td>24.0</td>\n      <td>respiration</td>\n      <td>Float</td>\n      <td>Average respiration during encounter  (breaths...</td>\n    </tr>\n    <tr>\n      <th>25</th>\n      <td>25.0</td>\n      <td>secondarydiagnosisnonicd9</td>\n      <td>Integer</td>\n      <td>Flag for whether a non ICD 9 formatted diagnos...</td>\n    </tr>\n    <tr>\n      <th>26</th>\n      <td>26.0</td>\n      <td>discharged</td>\n      <td>String</td>\n      <td>Date of discharge</td>\n    </tr>\n    <tr>\n      <th>27</th>\n      <td>27.0</td>\n      <td>facid</td>\n      <td>Integer</td>\n      <td>Facility ID at which the encounter occurred</td>\n    </tr>\n    <tr>\n      <th>28</th>\n      <td>28.0</td>\n      <td>lengthofstay</td>\n      <td>Integer</td>\n      <td>Length of stay for the encounter</td>\n    </tr>\n  </tbody>\n</table>\n</div>"
     },
     "metadata": {},
     "execution_count": 6
    }
   ],
   "source": [
    "data_dict"
   ]
  },
  {
   "cell_type": "markdown",
   "metadata": {},
   "source": [
    "# Prepare data"
   ]
  },
  {
   "cell_type": "code",
   "execution_count": 6,
   "metadata": {},
   "outputs": [],
   "source": [
    "X = df.drop('lengthofstay', axis=1)\n",
    "y = df['lengthofstay']"
   ]
  },
  {
   "cell_type": "code",
   "execution_count": 7,
   "metadata": {},
   "outputs": [],
   "source": [
    "from sklearn.model_selection import train_test_split"
   ]
  },
  {
   "cell_type": "markdown",
   "metadata": {},
   "source": [
    "## Split off a test set"
   ]
  },
  {
   "cell_type": "code",
   "execution_count": 8,
   "metadata": {},
   "outputs": [],
   "source": [
    "X_train, X_test, y_train, y_test = train_test_split(X, y, stratify=y, random_state=42)"
   ]
  },
  {
   "cell_type": "markdown",
   "metadata": {},
   "source": [
    "## Select model"
   ]
  },
  {
   "cell_type": "markdown",
   "metadata": {},
   "source": [
    "_Note: as we've discussed earlier, we treat this as a classification problem. I.e. is the expected length of stay 1,2,3,4,5,6,7,8 or more than 8 days?_"
   ]
  },
  {
   "cell_type": "code",
   "execution_count": 9,
   "metadata": {},
   "outputs": [],
   "source": [
    "from sklearn.ensemble import RandomForestClassifier"
   ]
  },
  {
   "cell_type": "code",
   "execution_count": 10,
   "metadata": {},
   "outputs": [],
   "source": [
    "rf = RandomForestClassifier(random_state=42, n_jobs=-1)"
   ]
  },
  {
   "cell_type": "markdown",
   "metadata": {},
   "source": [
    "# Train model"
   ]
  },
  {
   "cell_type": "code",
   "execution_count": 11,
   "metadata": {},
   "outputs": [
    {
     "output_type": "execute_result",
     "data": {
      "text/plain": [
       "RandomForestClassifier(n_jobs=-1, random_state=42)"
      ]
     },
     "metadata": {},
     "execution_count": 11
    }
   ],
   "source": [
    "rf.fit(X_train, y_train)"
   ]
  },
  {
   "cell_type": "markdown",
   "metadata": {},
   "source": [
    "## Evaluate model"
   ]
  },
  {
   "cell_type": "code",
   "execution_count": 12,
   "metadata": {},
   "outputs": [],
   "source": [
    "from sklearn.metrics import accuracy_score"
   ]
  },
  {
   "cell_type": "code",
   "execution_count": 13,
   "metadata": {},
   "outputs": [],
   "source": [
    "y_pred = rf.predict(X_test)"
   ]
  },
  {
   "cell_type": "code",
   "execution_count": 14,
   "metadata": {},
   "outputs": [
    {
     "output_type": "execute_result",
     "data": {
      "text/plain": [
       "0.66676"
      ]
     },
     "metadata": {},
     "execution_count": 14
    }
   ],
   "source": [
    "accuracy_score(y_test, y_pred)"
   ]
  },
  {
   "cell_type": "code",
   "execution_count": 15,
   "metadata": {},
   "outputs": [],
   "source": [
    "from sklearn.metrics import confusion_matrix"
   ]
  },
  {
   "cell_type": "code",
   "execution_count": 16,
   "metadata": {},
   "outputs": [
    {
     "output_type": "execute_result",
     "data": {
      "text/plain": [
       "array([[3935,  519,   39,    2,    0,    0,    0,    0,    0],\n",
       "       [ 407, 2516,  230,   52,    1,    0,    0,    0,    0],\n",
       "       [  19,  713, 2952,  304,   25,    4,    0,    0,    0],\n",
       "       [   1,   97,  974, 2357,  255,   21,    0,    0,    0],\n",
       "       [   0,   10,  109,  995, 1716,  190,    8,    0,    1],\n",
       "       [   0,    7,   65,  252,  758, 1338,  159,   10,    2],\n",
       "       [   0,    0,    7,   33,  175,  570,  903,   93,   35],\n",
       "       [   0,    1,    6,   17,   74,  166,  397,  371,  131],\n",
       "       [   0,    0,    1,    5,   16,   85,  114,  176,  581]])"
      ]
     },
     "metadata": {},
     "execution_count": 16
    }
   ],
   "source": [
    "confusion_matrix(y_test, y_pred)"
   ]
  },
  {
   "cell_type": "markdown",
   "metadata": {},
   "source": [
    "# Export trained model "
   ]
  },
  {
   "cell_type": "markdown",
   "metadata": {},
   "source": [
    "Can use either `pickle` or `joblib` for this (among others)."
   ]
  },
  {
   "cell_type": "code",
   "execution_count": 17,
   "metadata": {},
   "outputs": [],
   "source": [
    "MODEL_DIR = NB_DIR/'..'/'models'"
   ]
  },
  {
   "cell_type": "code",
   "execution_count": 18,
   "metadata": {},
   "outputs": [],
   "source": [
    "from joblib import dump"
   ]
  },
  {
   "cell_type": "code",
   "execution_count": 19,
   "metadata": {},
   "outputs": [
    {
     "output_type": "execute_result",
     "data": {
      "text/plain": [
       "['/home/alex/Dropbox/Jobb/HIB/Kurs/DAT158/Forelesninger-labs/Flask/quick_flask_tutorial/ex3-ml_and_flask/nbs/../models/simple_rf_model.joblib']"
      ]
     },
     "metadata": {},
     "execution_count": 19
    }
   ],
   "source": [
    "dump(rf, MODEL_DIR/'simple_rf_model.joblib', compress=6)"
   ]
  },
  {
   "cell_type": "markdown",
   "metadata": {},
   "source": [
    "# Important note"
   ]
  },
  {
   "cell_type": "markdown",
   "metadata": {},
   "source": [
    "We did absolutely no preprocessing of the data. No normalization, no feature engineering, nothing. In your work you'll likely do a lot of work on the data before feeding it to any model. \n",
    "\n",
    "> ***Remember to export your preprocessing pipeline as well, not just the model***. \n",
    "\n",
    "Otherwise it'll be more difficult to deploy your model, as new data fed to the model must be preprocessed exactly as you did for the training data. You should in general use scikit-learn pipelines for combining the preprocessing with the model, and you can save the entire pipeline using `joblib` or `pickle` "
   ]
  }
 ],
 "metadata": {
  "kernelspec": {
   "display_name": "DAT158",
   "language": "python",
   "name": "dat158"
  },
  "language_info": {
   "codemirror_mode": {
    "name": "ipython",
    "version": 3
   },
   "file_extension": ".py",
   "mimetype": "text/x-python",
   "name": "python",
   "nbconvert_exporter": "python",
   "pygments_lexer": "ipython3",
   "version": "3.7.7-final"
  }
 },
 "nbformat": 4,
 "nbformat_minor": 4
}