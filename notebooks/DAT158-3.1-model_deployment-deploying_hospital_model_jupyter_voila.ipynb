{
 "cells": [
  {
   "cell_type": "markdown",
   "id": "75328c22",
   "metadata": {
    "toc": true
   },
   "source": [
    "<h1>Table of Contents<span class=\"tocSkip\"></span></h1>\n",
    "<div class=\"toc\"><ul class=\"toc-item\"></ul></div>"
   ]
  },
  {
   "cell_type": "code",
   "execution_count": 1,
   "id": "67ecbb17-90ea-4ab9-8a78-fd04730ec093",
   "metadata": {},
   "outputs": [],
   "source": [
    "# Standard framework\n",
    "import pandas as pd, numpy as np\n",
    "\n",
    "# We'll use bqplot for interactive plotting\n",
    "import bqplot\n",
    "from bqplot import pyplot as plt\n",
    "\n",
    "# For our widgets:\n",
    "import ipywidgets as widgets"
   ]
  },
  {
   "cell_type": "code",
   "execution_count": 2,
   "id": "1d5759ff",
   "metadata": {},
   "outputs": [],
   "source": [
    "# Import the data, the trained model and data preparation pipeline\n",
    "# See the previous notebook for details"
   ]
  },
  {
   "cell_type": "code",
   "execution_count": 3,
   "id": "03b7df28",
   "metadata": {},
   "outputs": [],
   "source": [
    "from pycaret.regression import load_model, predict_model"
   ]
  },
  {
   "cell_type": "code",
   "execution_count": 4,
   "id": "9f87f440",
   "metadata": {},
   "outputs": [],
   "source": [
    "train = pd.read_csv('https://github.com/alu042/DAT158-2022/raw/main/Kaggle/hospital/training_data.csv')\n",
    "test = pd.read_csv('https://github.com/alu042/DAT158-2022/raw/main/Kaggle/hospital/test_data.csv')\n",
    "DICT = pd.read_csv('https://github.com/alu042/DAT158-2022/raw/main/Kaggle/hospital/data_dictionary.csv')\n",
    "METADATA = pd.read_csv('https://github.com/alu042/DAT158-2022/raw/main/Kaggle/hospital/metadata.csv')"
   ]
  },
  {
   "cell_type": "code",
   "execution_count": 5,
   "id": "624b2333",
   "metadata": {},
   "outputs": [],
   "source": [
    "# Useful to be able to extract the feature descriptions from DICT:\n",
    "def remove_whitespace(string):\n",
    "    return string.replace(\" \", \"\")\n",
    "\n",
    "DICT['Data fields'] = DICT['Data fields'].apply(remove_whitespace)\n",
    "\n",
    "def get_feature_descr(feat):\n",
    "    \n",
    "    return DICT.loc[DICT['Data fields'] == feat].Descriptions.values[0]"
   ]
  },
  {
   "cell_type": "code",
   "execution_count": 6,
   "id": "c3de6175",
   "metadata": {},
   "outputs": [],
   "source": [
    "# We add the additional feature discussed in the previous notebook. \n",
    "# See the remark in that notebook for the reason why this is not \n",
    "# part of the pipeline.\n",
    "issues = ['dialysisrenalendstage',\n",
    " 'asthma',\n",
    " 'irondef',\n",
    " 'pneum',\n",
    " 'substancedependence',\n",
    " 'psychologicaldisordermajor',\n",
    " 'depress',\n",
    " 'psychother',\n",
    " 'fibrosisandother',\n",
    " 'malnutrition',\n",
    " 'hemo']\n",
    "\n",
    "from sklearn.impute import SimpleImputer\n",
    "imp = SimpleImputer(strategy='most_frequent')\n",
    "train[issues] = imp.fit_transform(train[issues])\n",
    "test[issues] = imp.transform(test[issues])\n",
    "train.insert(len(train.columns)- 1, 'numberofissues', train[issues].astype('int').sum(axis=1))\n",
    "test.insert(len(test.columns)- 1, 'numberofissues', test[issues].astype('int').sum(axis=1))"
   ]
  },
  {
   "cell_type": "code",
   "execution_count": 7,
   "id": "3da47238",
   "metadata": {},
   "outputs": [],
   "source": [
    "model = load_model('saved_hospital_model_071122', verbose=False)"
   ]
  },
  {
   "cell_type": "code",
   "execution_count": 8,
   "id": "02ff56f0",
   "metadata": {},
   "outputs": [],
   "source": [
    "## Create some widgets for our webapp"
   ]
  },
  {
   "cell_type": "code",
   "execution_count": 9,
   "id": "21ed1848",
   "metadata": {},
   "outputs": [],
   "source": [
    "## Widgets for entering feature values:\n",
    "\n",
    "# Date feature\n",
    "\n",
    "date_widget = widgets.DatePicker(\n",
    "    value = pd.datetime(2012,3,14)\n",
    ")\n",
    "\n",
    "\n",
    "# Categorical features\n",
    "\n",
    "gender_widget = widgets.Dropdown(\n",
    "    options = [('Male','M'), ('Female', 'F')],\n",
    "    value = 'F',\n",
    "    description = \"Gender\",\n",
    "    disabled = False,\n",
    "    style = {'description_width': 'initial'},\n",
    "    layout=widgets.Layout(width='20%')    \n",
    "    \n",
    ")\n",
    "\n",
    "facid_widget = widgets.Dropdown(\n",
    "    options = [('A','A'), ('B', 'B'), ('C', 'C'), ('D', 'D'), ('E', 'E')],\n",
    "    value = 'A',\n",
    "    description = \"facid\",\n",
    "    disabled = False,\n",
    "    style = {'description_width': 'initial'},\n",
    "    layout=widgets.Layout(width='20%')    \n",
    "    \n",
    ")\n",
    "\n",
    "secondarydiagnosisnonicd9_widget = widgets.Dropdown(\n",
    "    options = [('0',0), ('1', 1), ('2', 2), ('3', 3), ('4', 4), ('5', 5), ('6', 6), ('7', 7), ('8', 8), ('9', 9), ('10', 10)],\n",
    "    value = 1,\n",
    "    description = \"secondarydiagnosisnonicd9\",\n",
    "    disabled = False,\n",
    "    style = {'description_width': 'initial'},\n",
    "    layout=widgets.Layout(width='20%')    \n",
    "    \n",
    ")"
   ]
  },
  {
   "cell_type": "code",
   "execution_count": 10,
   "id": "c483941b",
   "metadata": {},
   "outputs": [],
   "source": [
    "# Numerical features\n",
    "\n",
    "\n",
    "rcount_widget = widgets.Dropdown(\n",
    "    options = [('0', 0), ('1',1), ('2',2), ('3',3), ('4', 4), ('5 or more', 5)],\n",
    "    value = 0,\n",
    "    description = \"rcount\",\n",
    "    disabled = False,\n",
    "    style = {'description_width': 'initial'},\n",
    "    layout=widgets.Layout(width='20%')    \n",
    "    \n",
    ")\n",
    "\n",
    "\n",
    "neutrophils_widget = widgets.BoundedFloatText(\n",
    "    value = 10,\n",
    "    min=0.,\n",
    "    max=250.,\n",
    "    description = 'hematocrit',\n",
    "    disabled=False,\n",
    "    style = {'description_width': 'initial'},\n",
    "    layout=widgets.Layout(width='20%')    \n",
    ")\n",
    "\n",
    "\n",
    "hematocrit_widget = widgets.BoundedFloatText(\n",
    "    value = 12,\n",
    "    min=4.,\n",
    "    max=25.,\n",
    "    description = 'hematocrit',\n",
    "    disabled=False,\n",
    "    style = {'description_width': 'initial'},\n",
    "    layout=widgets.Layout(width='20%')    \n",
    ")\n",
    "\n",
    "sodium_widget = widgets.FloatSlider(\n",
    "    value = 140,\n",
    "    min=120.,\n",
    "    max=160.,\n",
    "    step=0.5,\n",
    "    description = 'sodium',\n",
    "    disabled=False,\n",
    "    style = {'description_width': 'initial'},\n",
    "    layout=widgets.Layout(width='20%')    \n",
    ")\n",
    "\n",
    "glucose_widget = widgets.BoundedFloatText(\n",
    "    value = 140,\n",
    "    min=11.,\n",
    "    max=270.,\n",
    "    description = 'glucose',\n",
    "    disabled=False,\n",
    "    style = {'description_width': 'initial'},\n",
    "    layout=widgets.Layout(width='20%')    \n",
    ")\n",
    "\n",
    "\n",
    "bloodureanitro_widget = widgets.BoundedFloatText(\n",
    "    value = 14,\n",
    "    min=1.,\n",
    "    max=690.,\n",
    "    description = 'bloodureanitro',\n",
    "    disabled=False,\n",
    "    style = {'description_width': 'initial'},\n",
    "    layout=widgets.Layout(width='20%')    \n",
    ")\n",
    "\n",
    "creatinine_widget = widgets.FloatSlider(\n",
    "    value = 1,\n",
    "    min=0.,\n",
    "    max=3.,\n",
    "    step=0.1,\n",
    "    description = 'creatinine',\n",
    "    disabled=False,\n",
    "    style = {'description_width': 'initial'},\n",
    "    layout=widgets.Layout(width='20%')    \n",
    ")\n",
    "\n",
    "bmi_widget = widgets.BoundedFloatText(\n",
    "    value = 30,\n",
    "    min=20.,\n",
    "    max=40.,\n",
    "    description = 'bmi',\n",
    "    disabled=False,\n",
    "    style = {'description_width': 'initial'},\n",
    "    layout=widgets.Layout(width='20%')    \n",
    ")\n",
    "\n",
    "pulse_widget = widgets.FloatSlider(\n",
    "    value = 75,\n",
    "    min=20.,\n",
    "    max=140.,\n",
    "    step=1,\n",
    "    description = 'pulse',\n",
    "    disabled=False,\n",
    "    style = {'description_width': 'initial'},\n",
    "    layout=widgets.Layout(width='20%')    \n",
    ")\n",
    "\n",
    "respiration_widget = widgets.IntSlider(\n",
    "    value = 7,\n",
    "    min=0.,\n",
    "    max=10.,\n",
    "    step=1,\n",
    "    description = 'respiration',\n",
    "    disabled=False,\n",
    "    style = {'description_width': 'initial'},\n",
    "    layout=widgets.Layout(width='20%')    \n",
    ")"
   ]
  },
  {
   "cell_type": "code",
   "execution_count": 11,
   "id": "e2f1fac2",
   "metadata": {},
   "outputs": [],
   "source": [
    "def get_bool_widget(descr):\n",
    "    w = widgets.Checkbox(\n",
    "            value=False,\n",
    "            description=descr,\n",
    "            disabled=False,\n",
    "            style = {'description_width': 'initial'},\n",
    "            layout=widgets.Layout(width='50%')\n",
    "            )\n",
    "    \n",
    "    return w"
   ]
  },
  {
   "cell_type": "code",
   "execution_count": 12,
   "id": "7cbe1a57",
   "metadata": {},
   "outputs": [],
   "source": [
    "# Boolean features:\n",
    "\n",
    "dialysisrenalendstage_widget = get_bool_widget(get_feature_descr('dialysisrenalendstage'))\n",
    "asthma_widget = get_bool_widget(get_feature_descr('asthma'))\n",
    "irondef_widget = get_bool_widget(get_feature_descr('irondef'))\n",
    "pneum_widget = get_bool_widget(get_feature_descr('pneum'))\n",
    "substancedependence_widget = get_bool_widget(get_feature_descr('substancedependence'))\n",
    "psychologicaldisordermajor_widget = get_bool_widget(get_feature_descr('psychologicaldisordermajor'))\n",
    "depress_widget = get_bool_widget(get_feature_descr('depress'))\n",
    "psychother_widget = get_bool_widget(get_feature_descr('psychother'))\n",
    "fibrosisandother_widget = get_bool_widget(get_feature_descr('fibrosisandother'))\n",
    "malnutrition_widget = get_bool_widget(get_feature_descr('malnutrition'))\n",
    "hemo_widget = get_bool_widget(get_feature_descr('hemo'))"
   ]
  },
  {
   "cell_type": "code",
   "execution_count": 13,
   "id": "c42f4557",
   "metadata": {},
   "outputs": [],
   "source": [
    "# Collect all widgets\n",
    "\n",
    "all_widgets = [\n",
    "    date_widget,\n",
    "    gender_widget,\n",
    "    facid_widget,\n",
    "    secondarydiagnosisnonicd9_widget,\n",
    "    rcount_widget,\n",
    "    hematocrit_widget,\n",
    "    neutrophils_widget,\n",
    "    sodium_widget,\n",
    "    glucose_widget,\n",
    "    bloodureanitro_widget,\n",
    "    creatinine_widget,\n",
    "    bmi_widget,\n",
    "    pulse_widget,\n",
    "    respiration_widget,\n",
    "    dialysisrenalendstage_widget,\n",
    "    asthma_widget,\n",
    "    irondef_widget,\n",
    "    pneum_widget,\n",
    "    substancedependence_widget,\n",
    "    psychologicaldisordermajor_widget,\n",
    "    depress_widget,\n",
    "    psychother_widget,\n",
    "    fibrosisandother_widget,\n",
    "    malnutrition_widget,\n",
    "    hemo_widget\n",
    "]"
   ]
  },
  {
   "cell_type": "code",
   "execution_count": 14,
   "id": "693546d7",
   "metadata": {},
   "outputs": [],
   "source": [
    "# A function to output the selected feature values\n",
    "from IPython.core.display import HTML\n",
    "def selected_feature_values(vdate, rcount, gender, dialysisrenalendstage, asthma,\n",
    "       irondef, pneum, substancedependence, psychologicaldisordermajor,\n",
    "       depress, psychother, fibrosisandother, malnutrition, hemo,\n",
    "       hematocrit, neutrophils, sodium, glucose, bloodureanitro,\n",
    "       creatinine, bmi, pulse, respiration,\n",
    "       secondarydiagnosisnonicd9, facid):\n",
    "    \n",
    "    html = f\"\"\" <h4>Your Selections:</h4>\n",
    "        <ul>\n",
    "            <li>Visit date: {vdate}</li>\n",
    "            <li>rcount: {rcount}</li>\n",
    "            <li>gender: {gender}</li>\n",
    "            <li>dialysisrenalendstage: {dialysisrenalendstage}</li>\n",
    "            <li>asthma: {asthma}</li>\n",
    "            <li>irondef: {irondef}</li>\n",
    "            <li>pneum: {pneum}</li>\n",
    "            <li>substancedependence: {substancedependence}</li>\n",
    "            <li>psychologicaldisordermajor: {psychologicaldisordermajor}</li>\n",
    "            <li>depress: {depress}</li>\n",
    "            <li>psychother: {psychother}</li>\n",
    "            <li>fibrosisandother: {fibrosisandother}</li>\n",
    "            <li>malnutrition: {malnutrition}</li> \n",
    "            <li>hemo: {hemo}</li> \n",
    "            <li>hematocrit: {hematocrit}</li> \n",
    "            <li>neutrophils: {neutrophils}</li> \n",
    "            <li>sodium: {sodium}</li> \n",
    "            <li>glucose: {glucose}</li> \n",
    "            <li>bloodureanitro: {bloodureanitro}</li> \n",
    "            <li>creatinine: {creatinine}</li> \n",
    "            <li>bmi: {bmi}</li> \n",
    "            <li>pulse: {pulse}</li> \n",
    "            <li>respiration: {respiration}</li> \n",
    "            <li>secondarydiagnosisnonicd9: {secondarydiagnosisnonicd9}</li> \n",
    "            <li>facid: {facid}</li> \n",
    "        </ul>\n",
    "        <br>\n",
    "        \"\"\"\n",
    "    display(HTML(html))"
   ]
  },
  {
   "cell_type": "code",
   "execution_count": 28,
   "id": "d4d11a5e",
   "metadata": {},
   "outputs": [],
   "source": [
    "# A function to output the prediction for the selected feature values\n",
    "from IPython.core.display import HTML\n",
    "def get_pred(vdate, rcount, gender, dialysisrenalendstage, asthma,\n",
    "       irondef, pneum, substancedependence, psychologicaldisordermajor,\n",
    "       depress, psychother, fibrosisandother, malnutrition, hemo,\n",
    "       hematocrit, neutrophils, sodium, glucose, bloodureanitro,\n",
    "       creatinine, bmi, pulse, respiration,\n",
    "       secondarydiagnosisnonicd9, facid):\n",
    "    \n",
    "    \n",
    "    numberofissues = np.sum([dialysisrenalendstage, asthma,\n",
    "       irondef, pneum, substancedependence, psychologicaldisordermajor,\n",
    "       depress, psychother, fibrosisandother, malnutrition, hemo])\n",
    "    \n",
    "    id = 76513\n",
    "    \n",
    "    pred_df = pd.DataFrame([{\n",
    "        'id': id,\n",
    "        'vdate': vdate,\n",
    "        'gender': gender,\n",
    "        'facid': facid,\n",
    "        'secondarydiagnosisnonicd9': secondarydiagnosisnonicd9,\n",
    "        'rcount': rcount,\n",
    "        'hematocrit': hematocrit,\n",
    "        'neutrophils': neutrophils,\n",
    "        'sodium': sodium,\n",
    "        'glucose': glucose,\n",
    "        'bloodureanitro': bloodureanitro,\n",
    "        'creatinine': creatinine,\n",
    "        'bmi': bmi,\n",
    "        'pulse': pulse,\n",
    "        'respiration': respiration,\n",
    "        'dialysisrenalendstage': dialysisrenalendstage,\n",
    "        'asthma': asthma,\n",
    "        'irondef': irondef,\n",
    "        'pneum': pneum,\n",
    "        'substancedependence': substancedependence,\n",
    "        'psychologicaldisordermajor': psychologicaldisordermajor,\n",
    "        'depress': depress,\n",
    "        'psychother': psychother,\n",
    "        'fibrosisandother': fibrosisandother,\n",
    "        'malnutrition': malnutrition,\n",
    "        'hemo': hemo,\n",
    "        'numberofissues': numberofissues\n",
    "        \n",
    "    }])\n",
    "    \n",
    "\n",
    "    pred = predict_model(model, data=pred_df)\n",
    "    \n",
    "    html = f\"\"\"  \n",
    "      The model predicts a length of stay of {round(pred.Label.values[0],2)} days\n",
    "\n",
    "    \"\"\"\n",
    "    display(HTML(html))"
   ]
  },
  {
   "cell_type": "code",
   "execution_count": 16,
   "id": "d8c5c411",
   "metadata": {},
   "outputs": [],
   "source": [
    "selected = widgets.interactive_output(\n",
    "    selected_feature_values, \n",
    "    {\n",
    "    'vdate': date_widget,\n",
    "    'gender': gender_widget,\n",
    "    'facid': facid_widget,\n",
    "    'secondarydiagnosisnonicd9': secondarydiagnosisnonicd9_widget,\n",
    "    'rcount': rcount_widget,\n",
    "    'hematocrit': hematocrit_widget,\n",
    "    'neutrophils': neutrophils_widget,\n",
    "    'sodium': sodium_widget,\n",
    "    'glucose': glucose_widget,\n",
    "    'bloodureanitro': bloodureanitro_widget,\n",
    "    'creatinine': creatinine_widget,\n",
    "    'bmi': bmi_widget,\n",
    "    'pulse': pulse_widget,\n",
    "    'respiration': respiration_widget,\n",
    "    'dialysisrenalendstage': dialysisrenalendstage_widget,\n",
    "    'asthma': asthma_widget,\n",
    "    'irondef': irondef_widget,\n",
    "    'pneum': pneum_widget,\n",
    "    'substancedependence': substancedependence_widget,\n",
    "    'psychologicaldisordermajor': psychologicaldisordermajor_widget,\n",
    "    'depress': depress_widget,\n",
    "    'psychother': psychother_widget,\n",
    "    'fibrosisandother': fibrosisandother_widget,\n",
    "    'malnutrition': malnutrition_widget,\n",
    "    'hemo': hemo_widget\n",
    "    }\n",
    ")"
   ]
  },
  {
   "cell_type": "code",
   "execution_count": 17,
   "id": "8b91a99e",
   "metadata": {},
   "outputs": [],
   "source": [
    "prediction = widgets.interactive_output(\n",
    "    get_pred, \n",
    "    {\n",
    "    'vdate': date_widget,\n",
    "    'gender': gender_widget,\n",
    "    'facid': facid_widget,\n",
    "    'secondarydiagnosisnonicd9': secondarydiagnosisnonicd9_widget,\n",
    "    'rcount': rcount_widget,\n",
    "    'hematocrit': hematocrit_widget,\n",
    "    'neutrophils': neutrophils_widget,\n",
    "    'sodium': sodium_widget,\n",
    "    'glucose': glucose_widget,\n",
    "    'bloodureanitro': bloodureanitro_widget,\n",
    "    'creatinine': creatinine_widget,\n",
    "    'bmi': bmi_widget,\n",
    "    'pulse': pulse_widget,\n",
    "    'respiration': respiration_widget,\n",
    "    'dialysisrenalendstage': dialysisrenalendstage_widget,\n",
    "    'asthma': asthma_widget,\n",
    "    'irondef': irondef_widget,\n",
    "    'pneum': pneum_widget,\n",
    "    'substancedependence': substancedependence_widget,\n",
    "    'psychologicaldisordermajor': psychologicaldisordermajor_widget,\n",
    "    'depress': depress_widget,\n",
    "    'psychother': psychother_widget,\n",
    "    'fibrosisandother': fibrosisandother_widget,\n",
    "    'malnutrition': malnutrition_widget,\n",
    "    'hemo': hemo_widget\n",
    "    }\n",
    ")"
   ]
  },
  {
   "cell_type": "code",
   "execution_count": 18,
   "id": "bc3c0ae7",
   "metadata": {},
   "outputs": [],
   "source": [
    "# Deploy the model"
   ]
  },
  {
   "cell_type": "code",
   "execution_count": 19,
   "id": "fb8dc500-3f9d-4bdf-a484-81e2742e4a3d",
   "metadata": {},
   "outputs": [],
   "source": [
    "title_html = f\"\"\"\n",
    "<h2>Hospital demo app</h2>\n",
    "Several features are used to predict the length of stay at the hospital. \n",
    "\"\"\"\n",
    "\n",
    "feature_values_html = f\"\"\"\n",
    "<hr>\n",
    "<h3> Enter the feature values here:</h3> \n",
    "\"\"\"\n",
    "\n",
    "pred_html = f\"\"\"\n",
    "<hr>\n",
    "<h3>Model prediction:</h3>\n",
    "\"\"\"\n",
    "\n",
    "plots_html = f\"\"\"\n",
    "<hr>\n",
    "<h3> Investigate training data</h3>\n",
    "You can investigate the values of the features used to train the model here: \n",
    "\"\"\""
   ]
  },
  {
   "cell_type": "code",
   "execution_count": 20,
   "id": "0307c88f",
   "metadata": {},
   "outputs": [],
   "source": [
    "appcont = [widgets.HTML(title_html, \n",
    "                        layout=widgets.Layout(margin='0 0 3em 0', max_width='1000px')),\n",
    "          widgets.HTML(feature_values_html, \n",
    "                        layout=widgets.Layout(margin='0 0 3em 0', max_width='1000px'))]"
   ]
  },
  {
   "cell_type": "code",
   "execution_count": 21,
   "id": "85c36ff1",
   "metadata": {},
   "outputs": [],
   "source": [
    "app = widgets.VBox(appcont)"
   ]
  },
  {
   "cell_type": "code",
   "execution_count": 22,
   "id": "90b7cbff",
   "metadata": {
    "scrolled": false
   },
   "outputs": [
    {
     "data": {
      "application/vnd.jupyter.widget-view+json": {
       "model_id": "05ce3969cc234eeda4914c9753fa9f72",
       "version_major": 2,
       "version_minor": 0
      },
      "text/plain": [
       "VBox(children=(HTML(value='\\n<h2>Hospital demo app</h2>\\nSeveral features are used to predict the length of st…"
      ]
     },
     "metadata": {},
     "output_type": "display_data"
    }
   ],
   "source": [
    "display(app)"
   ]
  },
  {
   "cell_type": "code",
   "execution_count": 23,
   "id": "82c35887",
   "metadata": {},
   "outputs": [
    {
     "data": {
      "application/vnd.jupyter.widget-view+json": {
       "model_id": "2c45b718acc644d697a2ba31dfb151f0",
       "version_major": 2,
       "version_minor": 0
      },
      "text/plain": [
       "DatePicker(value=datetime.datetime(2012, 3, 14, 0, 0))"
      ]
     },
     "metadata": {},
     "output_type": "display_data"
    },
    {
     "data": {
      "application/vnd.jupyter.widget-view+json": {
       "model_id": "2e22b711f6134279b3afe595b15483c2",
       "version_major": 2,
       "version_minor": 0
      },
      "text/plain": [
       "Dropdown(description='Gender', index=1, layout=Layout(width='50%'), options=(('Male', 'M'), ('Female', 'F')), …"
      ]
     },
     "metadata": {},
     "output_type": "display_data"
    },
    {
     "data": {
      "application/vnd.jupyter.widget-view+json": {
       "model_id": "892a9e3ce8d14626b53e4cf7ea2ced3d",
       "version_major": 2,
       "version_minor": 0
      },
      "text/plain": [
       "Dropdown(description='facid', layout=Layout(width='50%'), options=(('A', 'A'), ('B', 'B'), ('C', 'C'), ('D', '…"
      ]
     },
     "metadata": {},
     "output_type": "display_data"
    },
    {
     "data": {
      "application/vnd.jupyter.widget-view+json": {
       "model_id": "3817c66dd7e94cc7a7333405ac7d7045",
       "version_major": 2,
       "version_minor": 0
      },
      "text/plain": [
       "Dropdown(description='secondarydiagnosisnonicd9', index=1, layout=Layout(width='50%'), options=(('0', 0), ('1'…"
      ]
     },
     "metadata": {},
     "output_type": "display_data"
    },
    {
     "data": {
      "application/vnd.jupyter.widget-view+json": {
       "model_id": "46044256f14e469bbbc4c6c8f3b63510",
       "version_major": 2,
       "version_minor": 0
      },
      "text/plain": [
       "Dropdown(description='rcount', layout=Layout(width='20%'), options=(('0', 0), ('1', 1), ('2', 2), ('3', 3), ('…"
      ]
     },
     "metadata": {},
     "output_type": "display_data"
    },
    {
     "data": {
      "application/vnd.jupyter.widget-view+json": {
       "model_id": "b3538e81cb9449218b114e4c1101dd68",
       "version_major": 2,
       "version_minor": 0
      },
      "text/plain": [
       "BoundedFloatText(value=12.0, description='hematocrit', layout=Layout(width='50%'), max=25.0, min=4.0, style=De…"
      ]
     },
     "metadata": {},
     "output_type": "display_data"
    },
    {
     "data": {
      "application/vnd.jupyter.widget-view+json": {
       "model_id": "e27607a34df1403487fb6f5f87223d09",
       "version_major": 2,
       "version_minor": 0
      },
      "text/plain": [
       "BoundedFloatText(value=10.0, description='hematocrit', layout=Layout(width='20%'), max=250.0, style=Descriptio…"
      ]
     },
     "metadata": {},
     "output_type": "display_data"
    },
    {
     "data": {
      "application/vnd.jupyter.widget-view+json": {
       "model_id": "9b4c8ccd14724ce897d073ebf9aec2e6",
       "version_major": 2,
       "version_minor": 0
      },
      "text/plain": [
       "FloatSlider(value=140.0, description='sodium', layout=Layout(width='50%'), max=160.0, min=120.0, step=0.5, sty…"
      ]
     },
     "metadata": {},
     "output_type": "display_data"
    },
    {
     "data": {
      "application/vnd.jupyter.widget-view+json": {
       "model_id": "ebfa313da6924d36928985aea0223d8e",
       "version_major": 2,
       "version_minor": 0
      },
      "text/plain": [
       "BoundedFloatText(value=140.0, description='glucose', layout=Layout(width='50%'), max=270.0, min=11.0, style=De…"
      ]
     },
     "metadata": {},
     "output_type": "display_data"
    },
    {
     "data": {
      "application/vnd.jupyter.widget-view+json": {
       "model_id": "b39132e1d50e4674b87ed6322f56ff2c",
       "version_major": 2,
       "version_minor": 0
      },
      "text/plain": [
       "BoundedFloatText(value=14.0, description='bloodureanitro', layout=Layout(width='50%'), max=690.0, min=1.0, sty…"
      ]
     },
     "metadata": {},
     "output_type": "display_data"
    },
    {
     "data": {
      "application/vnd.jupyter.widget-view+json": {
       "model_id": "a905b76918ff4036b42f2e532bfc485c",
       "version_major": 2,
       "version_minor": 0
      },
      "text/plain": [
       "FloatSlider(value=1.0, description='creatinine', layout=Layout(width='50%'), max=3.0, style=SliderStyle(descri…"
      ]
     },
     "metadata": {},
     "output_type": "display_data"
    },
    {
     "data": {
      "application/vnd.jupyter.widget-view+json": {
       "model_id": "67d02b9fb4084d7583ba53b60f55a7d4",
       "version_major": 2,
       "version_minor": 0
      },
      "text/plain": [
       "BoundedFloatText(value=30.0, description='bmi', layout=Layout(width='50%'), max=40.0, min=20.0, style=Descript…"
      ]
     },
     "metadata": {},
     "output_type": "display_data"
    },
    {
     "data": {
      "application/vnd.jupyter.widget-view+json": {
       "model_id": "dc97613be39c46cd943f25869fb85e9d",
       "version_major": 2,
       "version_minor": 0
      },
      "text/plain": [
       "FloatSlider(value=75.0, description='pulse', layout=Layout(width='50%'), max=140.0, min=20.0, step=1.0, style=…"
      ]
     },
     "metadata": {},
     "output_type": "display_data"
    },
    {
     "data": {
      "application/vnd.jupyter.widget-view+json": {
       "model_id": "b4551f807353430eae773b7ebe3f5859",
       "version_major": 2,
       "version_minor": 0
      },
      "text/plain": [
       "IntSlider(value=7, description='respiration', layout=Layout(width='50%'), max=10, style=SliderStyle(descriptio…"
      ]
     },
     "metadata": {},
     "output_type": "display_data"
    },
    {
     "data": {
      "application/vnd.jupyter.widget-view+json": {
       "model_id": "db0574ffa40c4e29aa85de18bfe43963",
       "version_major": 2,
       "version_minor": 0
      },
      "text/plain": [
       "Checkbox(value=False, description='Flag for renal disease during encounter', layout=Layout(width='50%'), style…"
      ]
     },
     "metadata": {},
     "output_type": "display_data"
    },
    {
     "data": {
      "application/vnd.jupyter.widget-view+json": {
       "model_id": "bc4b9c63af194adf8e43ef975d81ed59",
       "version_major": 2,
       "version_minor": 0
      },
      "text/plain": [
       "Checkbox(value=False, description='Flag for asthma during encounter', layout=Layout(width='50%'), style=Descri…"
      ]
     },
     "metadata": {},
     "output_type": "display_data"
    },
    {
     "data": {
      "application/vnd.jupyter.widget-view+json": {
       "model_id": "e0ad2f0443834b88b98749f686793e10",
       "version_major": 2,
       "version_minor": 0
      },
      "text/plain": [
       "Checkbox(value=False, description='Flag for iron deficiency during encounter', layout=Layout(width='50%'), sty…"
      ]
     },
     "metadata": {},
     "output_type": "display_data"
    },
    {
     "data": {
      "application/vnd.jupyter.widget-view+json": {
       "model_id": "7013797d7a8646eea93f61538eb01409",
       "version_major": 2,
       "version_minor": 0
      },
      "text/plain": [
       "Checkbox(value=False, description='Flag for pneumonia during encounter', layout=Layout(width='50%'), style=Des…"
      ]
     },
     "metadata": {},
     "output_type": "display_data"
    },
    {
     "data": {
      "application/vnd.jupyter.widget-view+json": {
       "model_id": "2c52891855b74475b2b05b0b9119d471",
       "version_major": 2,
       "version_minor": 0
      },
      "text/plain": [
       "Checkbox(value=False, description='Flag for substance dependence during encounter', layout=Layout(width='50%')…"
      ]
     },
     "metadata": {},
     "output_type": "display_data"
    },
    {
     "data": {
      "application/vnd.jupyter.widget-view+json": {
       "model_id": "fe46868c744f4b0b880dc902fcaf2876",
       "version_major": 2,
       "version_minor": 0
      },
      "text/plain": [
       "Checkbox(value=False, description='Flag for major psychological disorder during encounter', layout=Layout(widt…"
      ]
     },
     "metadata": {},
     "output_type": "display_data"
    },
    {
     "data": {
      "application/vnd.jupyter.widget-view+json": {
       "model_id": "ced6a43e20d2435296a353d012857437",
       "version_major": 2,
       "version_minor": 0
      },
      "text/plain": [
       "Checkbox(value=False, description='Flag for depression during encounter', layout=Layout(width='50%'), style=De…"
      ]
     },
     "metadata": {},
     "output_type": "display_data"
    },
    {
     "data": {
      "application/vnd.jupyter.widget-view+json": {
       "model_id": "9938446fd33447f3a1dbcf7a15e0f2d3",
       "version_major": 2,
       "version_minor": 0
      },
      "text/plain": [
       "Checkbox(value=False, description='Flag for other psychological disorder during encounter ', layout=Layout(wid…"
      ]
     },
     "metadata": {},
     "output_type": "display_data"
    },
    {
     "data": {
      "application/vnd.jupyter.widget-view+json": {
       "model_id": "9df3fd5c9ab74635a60e24b4596cce63",
       "version_major": 2,
       "version_minor": 0
      },
      "text/plain": [
       "Checkbox(value=False, description='Flag for fibrosis during encounter', layout=Layout(width='50%'), style=Desc…"
      ]
     },
     "metadata": {},
     "output_type": "display_data"
    },
    {
     "data": {
      "application/vnd.jupyter.widget-view+json": {
       "model_id": "658c37a261394405ac34595a7b81c6da",
       "version_major": 2,
       "version_minor": 0
      },
      "text/plain": [
       "Checkbox(value=False, description='Flag for malnutrituion during encounter', layout=Layout(width='50%'), style…"
      ]
     },
     "metadata": {},
     "output_type": "display_data"
    },
    {
     "data": {
      "application/vnd.jupyter.widget-view+json": {
       "model_id": "84607b84d7ca42dcb4122f99691743a4",
       "version_major": 2,
       "version_minor": 0
      },
      "text/plain": [
       "Checkbox(value=False, description='Flag for blood disorder during encounter ', layout=Layout(width='50%'), sty…"
      ]
     },
     "metadata": {},
     "output_type": "display_data"
    }
   ],
   "source": [
    "for w in all_widgets:\n",
    "    display(w)"
   ]
  },
  {
   "cell_type": "code",
   "execution_count": 24,
   "id": "96bf9653",
   "metadata": {},
   "outputs": [],
   "source": [
    "#display(selected)"
   ]
  },
  {
   "cell_type": "code",
   "execution_count": 25,
   "id": "289c1978",
   "metadata": {},
   "outputs": [
    {
     "data": {
      "application/vnd.jupyter.widget-view+json": {
       "model_id": "99bd8a2ee6c6482dbfbd5347837c7a52",
       "version_major": 2,
       "version_minor": 0
      },
      "text/plain": [
       "HTML(value='\\n<hr>\\n<h3>Model prediction:</h3>\\n', layout=Layout(margin='0 0 3em 0', max_width='1000px'))"
      ]
     },
     "metadata": {},
     "output_type": "display_data"
    }
   ],
   "source": [
    "display(widgets.HTML(pred_html, \n",
    "                        layout=widgets.Layout(margin='0 0 3em 0', max_width='1000px')))"
   ]
  },
  {
   "cell_type": "code",
   "execution_count": 26,
   "id": "463f1376",
   "metadata": {},
   "outputs": [
    {
     "data": {
      "application/vnd.jupyter.widget-view+json": {
       "model_id": "5de9959df59e48aaad93a5b95bec118e",
       "version_major": 2,
       "version_minor": 0
      },
      "text/plain": [
       "Output()"
      ]
     },
     "metadata": {},
     "output_type": "display_data"
    }
   ],
   "source": [
    "display(prediction)"
   ]
  },
  {
   "cell_type": "code",
   "execution_count": 27,
   "id": "8ae6b133",
   "metadata": {},
   "outputs": [],
   "source": [
    "### End-notes ###\n",
    "\n",
    "# The application we constructed is of course very crude. It is \n",
    "# meant as a straightforward example of creating a webapp powered \n",
    "# by machine learning using Voilá. "
   ]
  }
 ],
 "metadata": {
  "kernelspec": {
   "display_name": "dat158-pycaret",
   "language": "python",
   "name": "dat158-pycaret"
  },
  "language_info": {
   "codemirror_mode": {
    "name": "ipython",
    "version": 3
   },
   "file_extension": ".py",
   "mimetype": "text/x-python",
   "name": "python",
   "nbconvert_exporter": "python",
   "pygments_lexer": "ipython3",
   "version": "3.8.13"
  },
  "toc": {
   "base_numbering": 1,
   "nav_menu": {},
   "number_sections": true,
   "sideBar": true,
   "skip_h1_title": false,
   "title_cell": "Table of Contents",
   "title_sidebar": "Contents",
   "toc_cell": true,
   "toc_position": {},
   "toc_section_display": true,
   "toc_window_display": false
  }
 },
 "nbformat": 4,
 "nbformat_minor": 5
}
